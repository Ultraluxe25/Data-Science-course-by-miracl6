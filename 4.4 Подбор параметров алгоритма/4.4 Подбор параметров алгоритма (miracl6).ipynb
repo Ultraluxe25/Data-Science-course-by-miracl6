{
 "cells": [
  {
   "cell_type": "markdown",
   "id": "583a8bf6",
   "metadata": {},
   "source": [
    "# Рассмотрим для начала как отработает baseline (модель со значениями гиперпараметров по умолчанию)."
   ]
  },
  {
   "cell_type": "code",
   "execution_count": 1,
   "id": "fcd2f7c1",
   "metadata": {},
   "outputs": [],
   "source": [
    "# импортируем библиотеки\n",
    "import pandas as pd\n",
    "import seaborn as sns\n",
    "from sklearn.model_selection import train_test_split, GridSearchCV\n",
    "from sklearn.preprocessing import StandardScaler\n",
    "from sklearn.linear_model import LogisticRegression\n",
    "from sklearn.metrics import roc_auc_score"
   ]
  },
  {
   "cell_type": "code",
   "execution_count": 2,
   "id": "2bfaae28",
   "metadata": {},
   "outputs": [],
   "source": [
    "# убираем предупреждения с экрана\n",
    "import warnings\n",
    "\n",
    "warnings.filterwarnings('ignore')"
   ]
  },
  {
   "cell_type": "code",
   "execution_count": 3,
   "id": "cf39666e",
   "metadata": {},
   "outputs": [
    {
     "name": "stdout",
     "output_type": "stream",
     "text": [
      "ROC-AUC train = 0.8691\n",
      "ROC-AUC test = 0.8683\n"
     ]
    }
   ],
   "source": [
    "# загружаем датасет Титаник\n",
    "df = sns.load_dataset('titanic')\n",
    "\n",
    "# удаляем неинформативные колонки\n",
    "df.drop(columns=['alive', 'deck'], inplace=True)\n",
    "\n",
    "# заполняем пропуски модами каждой из колонок\n",
    "df = df.fillna(df.mode().iloc[0])\n",
    "\n",
    "# разбиваем категориальные столбцы и удаляем один из классов,\n",
    "# чтобы предобвратить мультиколлинеарность\n",
    "df_label = pd.get_dummies(df, drop_first=True)\n",
    "\n",
    "# выделяем X и y\n",
    "X = df_label.drop('survived', axis=1)\n",
    "y = df.survived\n",
    "\n",
    "# разбиваем данные на train и test\n",
    "X_train, X_test, y_train, y_test = train_test_split(X,\n",
    "                                                    y,\n",
    "                                                    stratify=y,\n",
    "                                                    test_size=0.2,\n",
    "                                                    random_state=42)\n",
    "\n",
    "# стандартизируем данные\n",
    "sc = StandardScaler()\n",
    "X_train_std = sc.fit_transform(X_train)\n",
    "X_test_std = sc.transform(X_test)\n",
    "\n",
    "# обучаем модель логистической регрессии\n",
    "clf = LogisticRegression()\n",
    "clf.fit(X_train_std, y_train)\n",
    "\n",
    "# получаем вероятности\n",
    "y_train_proba = clf.predict_proba(X_train_std)\n",
    "y_test_proba = clf.predict_proba(X_test_std)\n",
    "\n",
    "# получаем значение метрики ROC-AUC\n",
    "print(f'ROC-AUC train = {roc_auc_score(y_train, y_train_proba[:, 1]):.4f}')\n",
    "print(f'ROC-AUC test = {roc_auc_score(y_test, y_test_proba[:, 1]):.4f}')"
   ]
  },
  {
   "cell_type": "markdown",
   "id": "b7511d7a",
   "metadata": {},
   "source": [
    "# Используем GridSearch при подборе"
   ]
  },
  {
   "cell_type": "code",
   "execution_count": 4,
   "id": "0bd8a799",
   "metadata": {},
   "outputs": [
    {
     "name": "stdout",
     "output_type": "stream",
     "text": [
      "ROC-AUC train = 0.8694\n",
      "ROC-AUC test = 0.8687\n"
     ]
    }
   ],
   "source": [
    "# словарь для перебора\n",
    "parameters = {\n",
    "    'max_iter': [1000],\n",
    "    'C': [1, 10, 100],\n",
    "    \"solver\": [\"liblinear\", \"saga\", \"sag\", \"lbfgs\"],\n",
    "    'penalty': ['l1', 'l2', 'elasticnet', 'none'],\n",
    "    \"random_state\": [42],\n",
    "    \"class_weight\" : ['balanced']\n",
    "}\n",
    "\n",
    "lr = LogisticRegression()\n",
    "# подаем на вход модель, словарь с параметрами, установим, на какую метрику ориентироваться\n",
    "\n",
    "clf = GridSearchCV(estimator=lr, # оценщик (лог рег)\n",
    "                   param_grid=parameters,\n",
    "                   scoring='roc_auc',  # метрика\n",
    "                   cv=3,  # the cross-validation splitting strategy\n",
    "                   verbose=0)  # отстутствие сообщений\n",
    "clf.fit(X_train_std, y_train)\n",
    "\n",
    "# получаем вероятности\n",
    "y_train_grid = clf.predict_proba(X_train_std)\n",
    "y_test_grid = clf.predict_proba(X_test_std)\n",
    "\n",
    "# рассмотрим метрику ROC-AUC\n",
    "print(f'ROC-AUC train = {roc_auc_score(y_train, y_train_grid[:, 1]):.4f}')\n",
    "print(f'ROC-AUC test = {roc_auc_score(y_test, y_test_grid[:, 1]):.4f}')"
   ]
  },
  {
   "cell_type": "markdown",
   "id": "89391aef",
   "metadata": {},
   "source": [
    "# [sklearn.model_selection.GridSearchCV](https://scikit-learn.org/stable/modules/generated/sklearn.model_selection.GridSearchCV.html)"
   ]
  },
  {
   "cell_type": "code",
   "execution_count": 5,
   "id": "54754294",
   "metadata": {},
   "outputs": [
    {
     "data": {
      "text/plain": [
       "{'C': 1,\n",
       " 'class_weight': 'balanced',\n",
       " 'max_iter': 1000,\n",
       " 'penalty': 'l2',\n",
       " 'random_state': 42,\n",
       " 'solver': 'saga'}"
      ]
     },
     "execution_count": 5,
     "metadata": {},
     "output_type": "execute_result"
    }
   ],
   "source": [
    "# посмотрим набор лучших параметров\n",
    "clf.best_params_"
   ]
  },
  {
   "cell_type": "code",
   "execution_count": 6,
   "id": "aa72e2b0",
   "metadata": {},
   "outputs": [
    {
     "data": {
      "text/html": [
       "<style>#sk-container-id-1 {color: black;background-color: white;}#sk-container-id-1 pre{padding: 0;}#sk-container-id-1 div.sk-toggleable {background-color: white;}#sk-container-id-1 label.sk-toggleable__label {cursor: pointer;display: block;width: 100%;margin-bottom: 0;padding: 0.3em;box-sizing: border-box;text-align: center;}#sk-container-id-1 label.sk-toggleable__label-arrow:before {content: \"▸\";float: left;margin-right: 0.25em;color: #696969;}#sk-container-id-1 label.sk-toggleable__label-arrow:hover:before {color: black;}#sk-container-id-1 div.sk-estimator:hover label.sk-toggleable__label-arrow:before {color: black;}#sk-container-id-1 div.sk-toggleable__content {max-height: 0;max-width: 0;overflow: hidden;text-align: left;background-color: #f0f8ff;}#sk-container-id-1 div.sk-toggleable__content pre {margin: 0.2em;color: black;border-radius: 0.25em;background-color: #f0f8ff;}#sk-container-id-1 input.sk-toggleable__control:checked~div.sk-toggleable__content {max-height: 200px;max-width: 100%;overflow: auto;}#sk-container-id-1 input.sk-toggleable__control:checked~label.sk-toggleable__label-arrow:before {content: \"▾\";}#sk-container-id-1 div.sk-estimator input.sk-toggleable__control:checked~label.sk-toggleable__label {background-color: #d4ebff;}#sk-container-id-1 div.sk-label input.sk-toggleable__control:checked~label.sk-toggleable__label {background-color: #d4ebff;}#sk-container-id-1 input.sk-hidden--visually {border: 0;clip: rect(1px 1px 1px 1px);clip: rect(1px, 1px, 1px, 1px);height: 1px;margin: -1px;overflow: hidden;padding: 0;position: absolute;width: 1px;}#sk-container-id-1 div.sk-estimator {font-family: monospace;background-color: #f0f8ff;border: 1px dotted black;border-radius: 0.25em;box-sizing: border-box;margin-bottom: 0.5em;}#sk-container-id-1 div.sk-estimator:hover {background-color: #d4ebff;}#sk-container-id-1 div.sk-parallel-item::after {content: \"\";width: 100%;border-bottom: 1px solid gray;flex-grow: 1;}#sk-container-id-1 div.sk-label:hover label.sk-toggleable__label {background-color: #d4ebff;}#sk-container-id-1 div.sk-serial::before {content: \"\";position: absolute;border-left: 1px solid gray;box-sizing: border-box;top: 0;bottom: 0;left: 50%;z-index: 0;}#sk-container-id-1 div.sk-serial {display: flex;flex-direction: column;align-items: center;background-color: white;padding-right: 0.2em;padding-left: 0.2em;position: relative;}#sk-container-id-1 div.sk-item {position: relative;z-index: 1;}#sk-container-id-1 div.sk-parallel {display: flex;align-items: stretch;justify-content: center;background-color: white;position: relative;}#sk-container-id-1 div.sk-item::before, #sk-container-id-1 div.sk-parallel-item::before {content: \"\";position: absolute;border-left: 1px solid gray;box-sizing: border-box;top: 0;bottom: 0;left: 50%;z-index: -1;}#sk-container-id-1 div.sk-parallel-item {display: flex;flex-direction: column;z-index: 1;position: relative;background-color: white;}#sk-container-id-1 div.sk-parallel-item:first-child::after {align-self: flex-end;width: 50%;}#sk-container-id-1 div.sk-parallel-item:last-child::after {align-self: flex-start;width: 50%;}#sk-container-id-1 div.sk-parallel-item:only-child::after {width: 0;}#sk-container-id-1 div.sk-dashed-wrapped {border: 1px dashed gray;margin: 0 0.4em 0.5em 0.4em;box-sizing: border-box;padding-bottom: 0.4em;background-color: white;}#sk-container-id-1 div.sk-label label {font-family: monospace;font-weight: bold;display: inline-block;line-height: 1.2em;}#sk-container-id-1 div.sk-label-container {text-align: center;}#sk-container-id-1 div.sk-container {/* jupyter's `normalize.less` sets `[hidden] { display: none; }` but bootstrap.min.css set `[hidden] { display: none !important; }` so we also need the `!important` here to be able to override the default hidden behavior on the sphinx rendered scikit-learn.org. See: https://github.com/scikit-learn/scikit-learn/issues/21755 */display: inline-block !important;position: relative;}#sk-container-id-1 div.sk-text-repr-fallback {display: none;}</style><div id=\"sk-container-id-1\" class=\"sk-top-container\"><div class=\"sk-text-repr-fallback\"><pre>LogisticRegression(C=1, class_weight=&#x27;balanced&#x27;, max_iter=1000, random_state=42,\n",
       "                   solver=&#x27;saga&#x27;)</pre><b>In a Jupyter environment, please rerun this cell to show the HTML representation or trust the notebook. <br />On GitHub, the HTML representation is unable to render, please try loading this page with nbviewer.org.</b></div><div class=\"sk-container\" hidden><div class=\"sk-item\"><div class=\"sk-estimator sk-toggleable\"><input class=\"sk-toggleable__control sk-hidden--visually\" id=\"sk-estimator-id-1\" type=\"checkbox\" checked><label for=\"sk-estimator-id-1\" class=\"sk-toggleable__label sk-toggleable__label-arrow\">LogisticRegression</label><div class=\"sk-toggleable__content\"><pre>LogisticRegression(C=1, class_weight=&#x27;balanced&#x27;, max_iter=1000, random_state=42,\n",
       "                   solver=&#x27;saga&#x27;)</pre></div></div></div></div></div>"
      ],
      "text/plain": [
       "LogisticRegression(C=1, class_weight='balanced', max_iter=1000, random_state=42,\n",
       "                   solver='saga')"
      ]
     },
     "execution_count": 6,
     "metadata": {},
     "output_type": "execute_result"
    }
   ],
   "source": [
    "# лучшая обученная модель\n",
    "clf.best_estimator_"
   ]
  },
  {
   "cell_type": "markdown",
   "id": "d055c807",
   "metadata": {},
   "source": [
    "# Используем RandomizedSearch при подборе"
   ]
  },
  {
   "cell_type": "code",
   "execution_count": 7,
   "id": "f9cae1af",
   "metadata": {},
   "outputs": [
    {
     "name": "stdout",
     "output_type": "stream",
     "text": [
      "ROC-AUC train = 0.8694\n",
      "ROC-AUC test = 0.8687\n"
     ]
    }
   ],
   "source": [
    "from sklearn.model_selection import RandomizedSearchCV\n",
    "\n",
    "# создадим словарь с параметрами, которые хотим установить и перебрать\n",
    "parameters = {\n",
    "    'max_iter': [1000],\n",
    "    'C': [1, 10, 100],\n",
    "    \"solver\": [\"liblinear\", \"saga\", \"sag\", \"lbfgs\"],\n",
    "    'penalty': ['l1', 'l2', 'elasticnet', 'none'],\n",
    "    \"random_state\": [42],\n",
    "    \"class_weight\" : ['balanced']\n",
    "}\n",
    "\n",
    "lr_grid = LogisticRegression()\n",
    "# подаем на вход модель, словарь с параметрами, установим, на какую метрику ориентироваться\n",
    "clf = RandomizedSearchCV(estimator=lr_grid,\n",
    "                         param_distributions=parameters,\n",
    "                         random_state=42,\n",
    "                         scoring='roc_auc',\n",
    "                         cv=5,\n",
    "                         verbose=0)\n",
    "clf.fit(X_train_std, y_train)\n",
    "\n",
    "# получение вероятностей\n",
    "y_train_grid = clf.predict_proba(X_train_std)\n",
    "y_proba_grid = clf.predict_proba(X_test_std)\n",
    "\n",
    "print(f'ROC-AUC train = {roc_auc_score(y_train, y_train_grid[:,1]):.4f}')\n",
    "print(f'ROC-AUC test = {roc_auc_score(y_test, y_proba_grid[:,1]):.4f}')"
   ]
  },
  {
   "cell_type": "markdown",
   "id": "387779a2",
   "metadata": {},
   "source": [
    "Также, если вы попробуете замерить время именно выполнения поиска для того и другого случая, то увидите, что RandomizedSearch работает быстрее GridSearch, но к сожалению, теряем в качестве."
   ]
  },
  {
   "cell_type": "markdown",
   "id": "51d49fcb",
   "metadata": {},
   "source": [
    "# [sklearn.model_selection.RandomizedSearchCV](https://scikit-learn.org/stable/modules/generated/sklearn.model_selection.RandomizedSearchCV.html)"
   ]
  }
 ],
 "metadata": {
  "kernelspec": {
   "display_name": "Python 3 (ipykernel)",
   "language": "python",
   "name": "python3"
  },
  "language_info": {
   "codemirror_mode": {
    "name": "ipython",
    "version": 3
   },
   "file_extension": ".py",
   "mimetype": "text/x-python",
   "name": "python",
   "nbconvert_exporter": "python",
   "pygments_lexer": "ipython3",
   "version": "3.10.8"
  }
 },
 "nbformat": 4,
 "nbformat_minor": 5
}
